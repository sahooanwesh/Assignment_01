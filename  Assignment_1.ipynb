{
 "cells": [
  {
   "cell_type": "markdown",
   "id": "8fbffe44",
   "metadata": {},
   "source": [
    "# fibonacci series"
   ]
  },
  {
   "cell_type": "code",
   "execution_count": 38,
   "id": "2c2a58a7",
   "metadata": {},
   "outputs": [
    {
     "name": "stdout",
     "output_type": "stream",
     "text": [
      "1 1  2  3  5  8  13  21  34  "
     ]
    }
   ],
   "source": [
    "# 0 1 1 2 3 5 8 13 21 34... \n",
    "a = 0\n",
    "b = 1\n",
    "print(b, end = ' ')\n",
    "for i in range(0,8):\n",
    "    c = a+b\n",
    "    a = b \n",
    "    b = c\n",
    "    print(c, end = '  ')\n",
    "    \n",
    "    "
   ]
  },
  {
   "cell_type": "code",
   "execution_count": null,
   "id": "c9c9f65b",
   "metadata": {},
   "outputs": [],
   "source": []
  }
 ],
 "metadata": {
  "kernelspec": {
   "display_name": "Python 3 (ipykernel)",
   "language": "python",
   "name": "python3"
  },
  "language_info": {
   "codemirror_mode": {
    "name": "ipython",
    "version": 3
   },
   "file_extension": ".py",
   "mimetype": "text/x-python",
   "name": "python",
   "nbconvert_exporter": "python",
   "pygments_lexer": "ipython3",
   "version": "3.10.0"
  }
 },
 "nbformat": 4,
 "nbformat_minor": 5
}
