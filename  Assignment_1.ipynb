{
 "cells": [
  {
   "cell_type": "markdown",
   "id": "b6e5bca9",
   "metadata": {},
   "source": [
    "# fibonacci series"
   ]
  },
  {
   "cell_type": "code",
   "execution_count": 38,
   "id": "b194d4f6",
   "metadata": {},
   "outputs": [
    {
     "name": "stdout",
     "output_type": "stream",
     "text": [
      "1 1  2  3  5  8  13  21  34  "
     ]
    }
   ],
   "source": [
    "# 0 1 1 2 3 5 8 13 21 34... \n",
    "a = 0\n",
    "b = 1\n",
    "print(b, end = ' ')\n",
    "for i in range(0,8):\n",
    "    c = a+b\n",
    "    a = b \n",
    "    b = c\n",
    "    print(c, end = '  ')\n",
    "    \n",
    "    "
   ]
  },
  {
   "cell_type": "markdown",
   "id": "83e820dd",
   "metadata": {},
   "source": [
    "# reverse"
   ]
  },
  {
   "cell_type": "code",
   "execution_count": 48,
   "id": "2e530d04",
   "metadata": {},
   "outputs": [
    {
     "name": "stdout",
     "output_type": "stream",
     "text": [
      "enter the word abcde\n",
      "edcba\n"
     ]
    }
   ],
   "source": [
    " # Write a Python program that accepts a word from the user and reverse it.\n",
    "# Input : Edyoda\n",
    "\n",
    "# output: adoydE\n",
    "\n",
    "a = input('enter the word ')\n",
    "print(a[::-1])\n",
    "\n"
   ]
  },
  {
   "cell_type": "markdown",
   "id": "2d0df23e",
   "metadata": {},
   "source": [
    "# odd/even"
   ]
  },
  {
   "cell_type": "code",
   "execution_count": 1,
   "id": "df9e7a88",
   "metadata": {},
   "outputs": [
    {
     "name": "stdout",
     "output_type": "stream",
     "text": [
      "Number of even numbers :  4\n",
      "Number of odd numbers :  5\n"
     ]
    }
   ],
   "source": [
    "# Write a Python program to count the number of even and odd numbers from a series of numbers.\n",
    "\n",
    "\n",
    "# Sample numbers : numbers = (1, 2, 3, 4, 5, 6, 7, 8, 9) \n",
    "\n",
    "# Expected Output :\n",
    "\n",
    "# Number of even numbers : 4\n",
    "\n",
    "# Number of odd numbers : 5\n",
    "\n",
    "\n",
    "odd = 0\n",
    "even = 0\n",
    "for i in range(1,10):\n",
    "    if i%2 == 0:\n",
    "        even +=1\n",
    "    else:\n",
    "        odd +=1\n",
    "print('Number of even numbers : ', even)\n",
    "\n",
    "print('Number of odd numbers : ', odd)\n",
    "        \n",
    "        \n"
   ]
  },
  {
   "cell_type": "code",
   "execution_count": null,
   "id": "6d41eaa4",
   "metadata": {},
   "outputs": [],
   "source": []
  }
 ],
 "metadata": {
  "kernelspec": {
   "display_name": "Python 3 (ipykernel)",
   "language": "python",
   "name": "python3"
  },
  "language_info": {
   "codemirror_mode": {
    "name": "ipython",
    "version": 3
   },
   "file_extension": ".py",
   "mimetype": "text/x-python",
   "name": "python",
   "nbconvert_exporter": "python",
   "pygments_lexer": "ipython3",
   "version": "3.10.0"
  }
 },
 "nbformat": 4,
 "nbformat_minor": 5
}
